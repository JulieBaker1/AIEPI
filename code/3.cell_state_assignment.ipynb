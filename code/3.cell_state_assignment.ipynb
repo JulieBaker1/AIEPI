{
 "cells": [
  {
   "cell_type": "code",
   "execution_count": null,
   "metadata": {},
   "outputs": [],
   "source": [
    "## 定义每个细胞的状态\n",
    "import pandas as pd\n",
    "from sklearn.preprocessing import StandardScaler\n",
    "import seaborn as sns\n",
    "\n",
    "adata_adeno_p = sc.read_h5ad(\"./adata_adeno_P.h5ad\")\n",
    "ngenes = 100\n",
    "K_range = [23]\n",
    "for K in K_range:\n",
    "    program_num = K\n",
    "    score = pd.read_csv(\"./gene_module/adeno_p/patient_GM_score_\" + str(program_num) +\"GM_\"+str(ngenes)+\"genes.csv\",index_col = 0)\n",
    "    share_state = pd.read_csv(\"./gene_module/adeno_p/share_state/pvalue_patient_shared_state_\"+str(program_num)+\"GM_\"+str(ngenes)+\"genes.csv\",index_col = 0).iloc[:,0]\n",
    "    score = score.loc[:,[\"score_GM\"+str(i) for i in share_state]]\n",
    "\n",
    "std_scaler = StandardScaler()\n",
    "\n",
    "score_scaled = std_scaler.fit_transform(score.to_numpy())\n",
    "score_scaled = pd.DataFrame(score_scaled, columns=column_name,index = row_name)\n",
    "\n",
    "print(\"Scaled Dataset Using StandardScaler\")\n",
    "score_scaled.head()\n",
    "GM_cell = score_scaled.idxmax(1)\n",
    "cell_state = [i.replace(\"score_\",\"\") for i in GM_cell]"
   ]
  }
 ],
 "metadata": {
  "language_info": {
   "name": "python"
  }
 },
 "nbformat": 4,
 "nbformat_minor": 2
}
