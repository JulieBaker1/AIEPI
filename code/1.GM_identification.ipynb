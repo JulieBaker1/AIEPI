{
 "cells": [
  {
   "cell_type": "code",
   "execution_count": null,
   "metadata": {},
   "outputs": [],
   "source": [
    "import AI_EPI\n",
    "# step1 prepare\n",
    "basedir = \"/home/wyh/scdata/combined_data/Epithelial\"\n",
    "output_directory = basedir+\"/NMFV2/\"\n",
    "run_name = \"Epithelial_adeno\"\n",
    "countfn = \"/home/wyh/scdata/combined_data/Epithelial/NMFV2/adata_adeno_p_sample.h5ad\"\n",
    "K = ' '.join([str(i) for i in range(20,50)])\n",
    "seed = 2022\n",
    "numiter = 10\n",
    "numworkers = 100\n",
    "# select important genes\n",
    "gene_HRG = HighlyRegionalGenes(sc.read_h5ad(\"adata_adeno_p_sample.h5ad\"),2000)\n",
    "gene_HRG.to_csv(\"./NMFV2/adeno_P_HRG.csv\",index = False,header = False)\n",
    "genes_file = basedir+\"/NMFV2/adeno_P_HRG.csv\"\n",
    "\n",
    "prepare_cmd = '/home/wyh/anaconda3/envs/wuyh_py38/bin/python cnmf.py prepare --output-dir %s --name %s -c %s -k %s --n-iter %d --total-workers %d --seed %d --genes-file %s --beta-loss frobenius' % (output_directory, run_name, countfn, K, numiter, numworkers, seed, genes_file)\n",
    "print('Prepare command assuming parallelization with %d cores:\\n%s' % (numworkers, prepare_cmd))\n",
    "! {prepare_cmd}"
   ]
  },
  {
   "cell_type": "code",
   "execution_count": null,
   "metadata": {
    "vscode": {
     "languageId": "r"
    }
   },
   "outputs": [],
   "source": [
    "\"\"\"## Submitting all of the factorization jobs for the 0th (I.e. the only) worker\n",
    "factorize_cmd = '/home/unix/kjag/.conda/envs/pegasus/bin/python cnmf.py factorize --output-dir %s --name %s --worker-index 0' % (output_directory, run_name)\n",
    "print('Factorize command with no parallelization:\\n%s' % factorize_cmd)\n",
    "!{factorize_cmd}\n",
    "\"\"\"\n",
    "## Using GNU parallel\n",
    "## This took 4 minutes in our testing\n",
    "basedir = \"/home/wyh/scdata/combined_data/Epithelial\"\n",
    "output_directory = basedir+\"/NMFV2/\"\n",
    "worker_index = ' '.join([str(x) for x in range(numworkers)])\n",
    "factorize_cmd = '/home/wyh/anaconda3/envs/wuyh_py38/bin/python %s/cnmf.py factorize --output-dir %s --name %s --worker-index %s --total-workers %d'\n",
    "commands = []\n",
    "for i in worker_index.split(' '):\n",
    "    commands.append(factorize_cmd%(basedir, output_directory, run_name, i, numworkers))\n",
    "commands = \"\\n\".join(commands)\n",
    "print('Factorize command to simultaneously run factorization over %d cores using GNU parallel:\\n%s' % (numworkers, commands))\n",
    "\n",
    "joblist = open(\"/home/wyh/scdata/combined_data/Epithelial/NMFV2/joblist\", \"w\")\n",
    "joblist.write(commands)\n",
    "joblist.close()\n",
    "!{commands}"
   ]
  },
  {
   "cell_type": "code",
   "execution_count": null,
   "metadata": {
    "vscode": {
     "languageId": "r"
    }
   },
   "outputs": [],
   "source": [
    "# step2 combine\n",
    "cmd = '/home/wyh/anaconda3/envs/wuyh_py38/bin/python /home/wyh/scdata/combined_data/Epithelial/cnmf.py combine --output-dir %s --name %s' % (output_directory, run_name)\n",
    "print(cmd)\n",
    "!{cmd}"
   ]
  },
  {
   "cell_type": "code",
   "execution_count": null,
   "metadata": {
    "vscode": {
     "languageId": "r"
    }
   },
   "outputs": [],
   "source": [
    "# step3 k selection\n",
    "worker_index = ' '.join([str(x) for x in range(1)])\n",
    "kselect_plot_cmd = '/home/wyh/anaconda3/envs/wuyh_py38/bin/python /home/wyh/scdata/combined_data/Epithelial/cnmf.py k_selection_plot --output-dir %s --name %s' % (output_directory, run_name)\n",
    "print('K selection plot command: %s' % kselect_plot_cmd)\n",
    "!{kselect_plot_cmd}\n",
    "\n",
    "from IPython.display import Image\n",
    "Image(filename = \"/home/wyh/scdata/combined_data/Epithelial/NMFV2/%s/%s.k_selection.png\"%(run_name, run_name), width=1000, height=1000)"
   ]
  },
  {
   "cell_type": "code",
   "execution_count": null,
   "metadata": {
    "vscode": {
     "languageId": "r"
    }
   },
   "outputs": [],
   "source": [
    "# step4 consenseus\n",
    "for K in [36,44,46]:\n",
    "    selected_K = K\n",
    "    density_threshold = 2\n",
    "    consensus_cmd = '/home/wyh/anaconda3/envs/wuyh_py38/bin/python /home/wyh/scdata/combined_data/Epithelial/cnmf.py consensus --output-dir %s --name %s --local-density-threshold %.2f --components %d --show-clustering' % (output_directory, run_name, density_threshold, selected_K)\n",
    "    print('Consensus command for K=%d:\\n%s' % (selected_K, consensus_cmd))\n",
    "    !{consensus_cmd}\n",
    "\n",
    "    density_threshold_str = ('%.2f' % density_threshold).replace('.', '_')\n",
    "    Image(filename = \"./NMFV2/%s/%s.clustering.k_%d.dt_%s.png\" % (run_name, run_name, selected_K, density_threshold_str), width=1000, height=1000)"
   ]
  },
  {
   "cell_type": "code",
   "execution_count": null,
   "metadata": {
    "vscode": {
     "languageId": "r"
    }
   },
   "outputs": [],
   "source": [
    "# step5 result show\n",
    "selected_K = 26\n",
    "density_threshold = 2.00\n",
    "density_threshold_str = ('%.2f' % density_threshold).replace('.', '_')\n",
    "run_name = \"Epithelial_adeno\"\n",
    "usage = pd.read_csv('./NMFV2/%s/%s.usages.k_%d.dt_%s.consensus.txt' % (run_name, run_name, selected_K, density_threshold_str),\n",
    "                    sep='\\t', index_col=0)\n",
    "usage.columns = ['Usage_%s' % i for i in usage.columns]\n",
    "usage_norm = usage.div(usage.sum(axis=1), axis=0)\n",
    "\n",
    "adata_adeno_sample = sc.read_h5ad(\"./NMFV2/adata_adeno_p_sample.h5ad\")\n",
    "adata_adeno_sample.obs = pd.merge(left=adata_adeno_sample.obs, right=usage_norm, how='left', left_index=True, right_index=True)\n",
    "sc.pl.umap(adata_adeno_sample, color=list(usage_norm.columns) , ncols=3, vmin=0, vmax=1, save=\"tumor_%d.png\"%selected_K)"
   ]
  },
  {
   "cell_type": "code",
   "execution_count": null,
   "metadata": {
    "vscode": {
     "languageId": "r"
    }
   },
   "outputs": [],
   "source": [
    "selected_K = 23\n",
    "density_threshold = 2.00\n",
    "run_name = \"Epithelial_adeno\"\n",
    "density_threshold_str = ('%.2f' % density_threshold).replace('.', '_')\n",
    "gene_scores = pd.read_csv('./NMFV2/%s/%s.gene_spectra_score.k_%d.dt_%s.txt' % (run_name, run_name, selected_K, density_threshold_str),\n",
    "                sep='\\t', index_col=0).T\n",
    "gene_scores.dropna(inplace =True)\n",
    "top_genes = []\n",
    "ngenes = 200\n",
    "for gep in gene_scores.columns:\n",
    "    top_genes.append(list(gene_scores.sort_values(by=gep, ascending=False).index[:ngenes]))\n",
    "\n",
    "top_genes = pd.DataFrame(top_genes, index=gene_scores.columns).T\n",
    "top_genes"
   ]
  },
  {
   "cell_type": "code",
   "execution_count": null,
   "metadata": {
    "vscode": {
     "languageId": "r"
    }
   },
   "outputs": [],
   "source": [
    "## score each cell by gene module\n",
    "adata_adeno = sc.read_h5ad(\"./adata_adeno_P.h5ad\")\n",
    "ngenes = 100\n",
    "\n",
    "K_range = [23]\n",
    "for K in K_range:\n",
    "    program_num = K\n",
    "\n",
    "    top_genes = pd.read_csv(\"./NMFV2/top_genes_GM\"+str(program_num)+\".csv\",index_col=0)\n",
    "    top_genes = top_genes.iloc[range(ngenes),]\n",
    "    top_genes.shape\n",
    "\n",
    "    for iGM in range(top_genes.shape[1]):\n",
    "        GM =list(top_genes.iloc[:,iGM])\n",
    "        sc.tl.score_genes(adata_adeno,gene_list = GM,score_name = \"score_GM\"+str(iGM+1))\n",
    "    score_module = adata_adeno.obs[[\"score_GM\"+str(i+1) for i in range(top_genes.shape[1])]]\n",
    "    score_module.to_csv(\"./gene_module/adeno_p/patient_GM_score_\" + str(program_num) +\"GM_\"+str(ngenes)+\"genes.csv\")"
   ]
  },
  {
   "cell_type": "code",
   "execution_count": null,
   "metadata": {
    "vscode": {
     "languageId": "r"
    }
   },
   "outputs": [],
   "source": []
  },
  {
   "cell_type": "code",
   "execution_count": null,
   "metadata": {
    "vscode": {
     "languageId": "r"
    }
   },
   "outputs": [],
   "source": []
  }
 ],
 "metadata": {
  "language_info": {
   "name": "python"
  }
 },
 "nbformat": 4,
 "nbformat_minor": 2
}
